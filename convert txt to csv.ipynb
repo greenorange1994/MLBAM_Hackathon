{
 "cells": [
  {
   "cell_type": "code",
   "execution_count": 16,
   "metadata": {
    "collapsed": true
   },
   "outputs": [],
   "source": [
    "import numpy as np\n",
    "import pandas as pd\n",
    "import sys\n",
    "import string\n",
    "import re\n",
    "\n",
    "def readDataFrame(path):\n",
    "    f = open(str(path),\"r\")\n",
    "    d = f.readlines()\n",
    "    f.close()\n",
    "    dic = {}\n",
    "    \n",
    "    for i in range(len(d)):\n",
    "        curD = d[i][:-2]\n",
    "        curD = curD.split(\"\\t\")\n",
    "        if i == 0:\n",
    "            for j in range(len(curD)):\n",
    "                colnames = curD\n",
    "                dic[curD[j]] = []\n",
    "                \n",
    "        else:\n",
    "            for j in range(len(curD)):\n",
    "                dic[colnames[j]].append(curD[j])\n",
    "    \n",
    "        lencheck = [len(dic[item]) for item in colnames]\n",
    "        if len(set(lencheck)) != 1:\n",
    "            print(i)\n",
    "            break\n",
    "    \n",
    "    df = pd.DataFrame(dic)\n",
    "    return df\n",
    "    "
   ]
  },
  {
   "cell_type": "code",
   "execution_count": 18,
   "metadata": {
    "collapsed": false
   },
   "outputs": [],
   "source": [
    "paths = [\"AtBat_Usage.txt\",\"Game_Attendance.txt\",\"MLBTV_Purchases.txt\",\"MLBTV_Streams.txt\",\"Ticket_Sales.txt\",\"Twitter_Data.txt\"]\n",
    "for path in paths:\n",
    "    df = readDataFrame(path)\n",
    "    df.to_csv(path[:-3]+\"csv\",index=False)"
   ]
  }
 ],
 "metadata": {
  "anaconda-cloud": {},
  "kernelspec": {
   "display_name": "Python [conda root]",
   "language": "python",
   "name": "conda-root-py"
  },
  "language_info": {
   "codemirror_mode": {
    "name": "ipython",
    "version": 3
   },
   "file_extension": ".py",
   "mimetype": "text/x-python",
   "name": "python",
   "nbconvert_exporter": "python",
   "pygments_lexer": "ipython3",
   "version": "3.5.2"
  }
 },
 "nbformat": 4,
 "nbformat_minor": 1
}
