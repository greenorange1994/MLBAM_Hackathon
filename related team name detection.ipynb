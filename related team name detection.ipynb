{
 "cells": [
  {
   "cell_type": "code",
   "execution_count": null,
   "metadata": {
    "collapsed": true
   },
   "outputs": [],
   "source": [
    "from string import punctuation\n",
    "def strip_punctuation(s):\n",
    "    return ''.join(c for c in s if c not in punctuation)\n"
   ]
  },
  {
   "cell_type": "code",
   "execution_count": null,
   "metadata": {
    "collapsed": true
   },
   "outputs": [],
   "source": [
    "f = open(\"Twitter_Data_US.csv\",\"r\")\n",
    "data = f.readlines()\n",
    "f.close()"
   ]
  },
  {
   "cell_type": "code",
   "execution_count": null,
   "metadata": {
    "collapsed": true
   },
   "outputs": [],
   "source": [
    "team = [\"red sox\",\"white sox\",\"giants\",\"mets\",\"yankees\",\"angels\",\"dodgers\",\"cubs\",\"orioles\",\n",
    "        \"nationals\",\"athletics\",\"rangers\",\"phillies\",\n",
    "        \"astros\",\"marlins\",\"braves\",\"tigers\",\"mariners\",\"diamondbacks\",\n",
    "        \"twins\",\"indians\",\"rockies\",\"padres\",\"rays\",\"cardinals\",\"pirates\",\n",
    "        \"royals\",\"reds\",\"brewers\"]\n",
    "d = {item:[] for item in team}\n",
    "\n",
    "for i in range(len(data)):\n",
    "    if i == 0:\n",
    "        next\n",
    "    else:\n",
    "        curD = data[i][:-2]\n",
    "        curD = curD.lower()\n",
    "        curD = curD.replace(\"#\",\" \")\n",
    "        curD = curD.split(\",\")\n",
    "        body = curD[4]\n",
    "        body = strip_punctuation(body)\n",
    "        \n",
    "        for j in range(len(team)):\n",
    "            \n",
    "            # j<2: red sox and white sox. with or without space.\n",
    "            if j < 2: \n",
    "                if team[j] in body:\n",
    "                    d[team[j]] += [1]\n",
    "                elif team[j].replace(\" \",\"\") in body:\n",
    "                    d[team[j]] += [1]\n",
    "                else:\n",
    "                    d[team[j]] += [0]\n",
    "                    \n",
    "            # j==2: giants, sometimes it's mentioned as SFgiants\n",
    "            elif j == 2:\n",
    "                body = body.split(\" \")\n",
    "                if team[j] in body:\n",
    "                    d[team[j]] += [1]\n",
    "                elif \"sf\"+team[j] in body:\n",
    "                    d[team[j]] += [1]\n",
    "                else:\n",
    "                    d[team[j]] += [0]\n",
    "            else:\n",
    "                if team[j] in body:\n",
    "                    d[team[j]] += [1]\n",
    "                else:\n",
    "                    d[team[j]] += [0]"
   ]
  },
  {
   "cell_type": "code",
   "execution_count": null,
   "metadata": {
    "collapsed": true
   },
   "outputs": [],
   "source": [
    "df = pd.DataFrame(d)\n",
    "df.tail()\n",
    "\n",
    "# write the dataframe into csv file\n",
    "df.to_csv(\"tw tag.csv\",index=False)"
   ]
  }
 ],
 "metadata": {
  "anaconda-cloud": {},
  "kernelspec": {
   "display_name": "Python [conda root]",
   "language": "python",
   "name": "conda-root-py"
  },
  "language_info": {
   "codemirror_mode": {
    "name": "ipython",
    "version": 3
   },
   "file_extension": ".py",
   "mimetype": "text/x-python",
   "name": "python",
   "nbconvert_exporter": "python",
   "pygments_lexer": "ipython3",
   "version": "3.5.2"
  }
 },
 "nbformat": 4,
 "nbformat_minor": 1
}
